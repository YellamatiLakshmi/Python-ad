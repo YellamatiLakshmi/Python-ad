{
 "cells": [
  {
   "cell_type": "code",
   "execution_count": 1,
   "id": "cff83501",
   "metadata": {},
   "outputs": [],
   "source": [
    "name = \"Alice\" \n",
    "age = 10\n",
    "height = 5.5\n",
    "is_student = True"
   ]
  },
  {
   "cell_type": "code",
   "execution_count": 3,
   "id": "9eb88fed",
   "metadata": {},
   "outputs": [
    {
     "name": "stdout",
     "output_type": "stream",
     "text": [
      "Name :  Alice\n",
      "Age :  10\n",
      "Height :  5.5\n",
      "Is_Student :  True\n"
     ]
    }
   ],
   "source": [
    "print(\"Name : \", name)\n",
    "print(\"Age : \", age)\n",
    "print(\"Height : \", height)\n",
    "print(\"Is_Student : \", is_student)"
   ]
  },
  {
   "cell_type": "code",
   "execution_count": 5,
   "id": "193a4756",
   "metadata": {},
   "outputs": [
    {
     "name": "stdout",
     "output_type": "stream",
     "text": [
      "Enter yor name : Alice\n",
      "Enter your age : 10\n",
      "Enter your height : 5.5\n",
      "Enter whether you are a student or not : True\n",
      "Name :  Alice\n",
      "Age :  10\n",
      "Height :  5.5\n",
      "Is_Student :  True\n"
     ]
    }
   ],
   "source": [
    "name = input(\"Enter yor name : \")\n",
    "age = int(input(\"Enter your age : \"))\n",
    "height = float(input(\"Enter your height : \"))\n",
    "is_student = input(\"Enter whether you are a student or not : \")\n",
    "print(\"Name : \", name)\n",
    "print(\"Age : \", age)\n",
    "print(\"Height : \", height)\n",
    "print(\"Is_Student : \", is_student)"
   ]
  },
  {
   "cell_type": "code",
   "execution_count": 8,
   "id": "21e2662e",
   "metadata": {},
   "outputs": [
    {
     "name": "stdout",
     "output_type": "stream",
     "text": [
      "Enter yor name : alice\n",
      "Enter your age : 10\n",
      "Enter your height : 3\n",
      "Enter whether you are a student or not : yes\n",
      "Name :  alice\n",
      "Age :  10\n",
      "Height :  3.0\n",
      "Is_Student :  yes\n"
     ]
    }
   ],
   "source": [
    "name = input(\"Enter yor name : \")\n",
    "age = (input(\"Enter your age : \"))\n",
    "height = float(input(\"Enter your height : \"))\n",
    "is_student = input(\"Enter whether you are a student or not : \")\n",
    "print(\"Name : \", name)\n",
    "print(\"Age : \", age)\n",
    "print(\"Height : \", height)\n",
    "print(\"Is_Student : \", is_student)"
   ]
  },
  {
   "cell_type": "code",
   "execution_count": null,
   "id": "56758d46",
   "metadata": {},
   "outputs": [],
   "source": []
  }
 ],
 "metadata": {
  "kernelspec": {
   "display_name": "Python 3 (ipykernel)",
   "language": "python",
   "name": "python3"
  },
  "language_info": {
   "codemirror_mode": {
    "name": "ipython",
    "version": 3
   },
   "file_extension": ".py",
   "mimetype": "text/x-python",
   "name": "python",
   "nbconvert_exporter": "python",
   "pygments_lexer": "ipython3",
   "version": "3.11.5"
  }
 },
 "nbformat": 4,
 "nbformat_minor": 5
}
